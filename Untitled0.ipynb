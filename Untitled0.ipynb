{
  "nbformat": 4,
  "nbformat_minor": 0,
  "metadata": {
    "colab": {
      "name": "Untitled0.ipynb",
      "version": "0.3.2",
      "provenance": [],
      "include_colab_link": true
    },
    "kernelspec": {
      "name": "python3",
      "display_name": "Python 3"
    }
  },
  "cells": [
    {
      "cell_type": "markdown",
      "metadata": {
        "id": "view-in-github",
        "colab_type": "text"
      },
      "source": [
        "<a href=\"https://colab.research.google.com/github/Klugshaft/python_scripts/blob/master/Untitled0.ipynb\" target=\"_parent\"><img src=\"https://colab.research.google.com/assets/colab-badge.svg\" alt=\"Open In Colab\"/></a>"
      ]
    },
    {
      "cell_type": "code",
      "metadata": {
        "id": "f2kAZt_kGJgT",
        "colab_type": "code",
        "colab": {}
      },
      "source": [
        ""
      ],
      "execution_count": 0,
      "outputs": []
    },
    {
      "cell_type": "markdown",
      "metadata": {
        "id": "iROHSGAaGKTT",
        "colab_type": "text"
      },
      "source": [
        "import textfsm as tfm\n",
        "import sys\n",
        "\n",
        "# -show route | no more - command to list route table in Juniper SRX and save\n",
        "# change the file name below to your output file\n",
        "raw_file = \"/python_scripts/sample_rules_generated_by_Tufin.txt\"\n",
        "input_rawfile = open(raw_file, 'r')\n",
        "raw_text_data = input_rawfile.read()\n",
        "input_rawfile.close()\n",
        "# print(raw_text_data)\n",
        "# open template file and initialize a new TextFSM object with it\n",
        "\n",
        "template_file = \"/python_scripts/juniper_policy_tmpla.txt\"\n",
        "template = open(template_file, 'r')\n",
        "re_table = tfm.TextFSM(template)\n",
        "\n",
        "# Read until EOF, then pass this to the FSM for parsing.\n",
        "fsm_rt_list = re_table.ParseText(raw_text_data)\n",
        "\n",
        "# write out result as a csv formatted file below\n",
        "\n",
        "# change the filename below for your output file\n",
        "outfile_name = \"juniper_policy_tuf.csv\"\n",
        "outfile = open(outfile_name, 'w')\n",
        "\n",
        "# Print header\n",
        " \n",
        "for item in re_table.header[0][0] :\n",
        " \n",
        "     print(', '.join(re_table.header))\n",
        "     outfile.write(': '.join(re_table.header))\n",
        "outfile.write('\\n')\n",
        "\n",
        "# below will hang your IDE if the list is going to be huge comment it out!\n",
        "print(fsm_rt_list)\n",
        "\n",
        "counter = 0\n",
        "index = 0\n",
        "\n",
        "# write out data from list\n",
        "for row in fsm_rt_list :\n",
        "\n",
        "\n",
        "---\n",
        "\n",
        "\n",
        "# modify following to present how your data will look like\n",
        "     for row_data in row :\n",
        "          stripped_data = str(row_data).strip(\"[\").strip(\"]\").replace(\"'\",\"\")\n",
        "          outfile.write(\"{}: \".format(stripped_data))\n",
        "     outfile.write(\"\\n\")\n",
        "     counter += 1\n",
        "\n",
        "\n",
        "print(\"Write {} records\".format(counter)) \n",
        "# write all rows\n",
        "\n",
        "outfile.close()\n"
      ]
    }
  ]
}